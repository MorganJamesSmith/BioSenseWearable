{
 "cells": [
  {
   "cell_type": "code",
   "execution_count": 2,
   "metadata": {},
   "outputs": [
    {
     "output_type": "display_data",
     "data": {
      "application/vnd.plotly.v1+json": {
       "config": {
        "plotlyServerURL": "https://plot.ly"
       },
       "data": [
        {
         "hovertemplate": "variable=accel_x<br>timestamp=%{x}<br>value=%{y}<extra></extra>",
         "legendgroup": "accel_x",
         "marker": {
          "color": "#636efa",
          "symbol": "circle"
         },
         "mode": "markers",
         "name": "accel_x",
         "orientation": "v",
         "showlegend": true,
         "type": "scatter",
         "x": [
          340,
          441,
          542,
          643,
          744,
          845,
          946,
          1047,
          1148,
          1249,
          1350,
          1451,
          1552,
          1653,
          1754,
          1855,
          1956,
          2057,
          2158,
          2259,
          2360,
          2461,
          2562,
          2663,
          2764,
          2865,
          2966,
          3067,
          3168,
          3269,
          3370,
          3471,
          3572,
          3673,
          3774,
          3875,
          3976,
          4077,
          4178,
          4279,
          4380,
          4481,
          4582,
          4683,
          4784,
          4885,
          4986,
          5087,
          5188,
          5289,
          5390,
          5491,
          5592,
          5693,
          5794,
          5895,
          5996,
          6097,
          6198,
          6299,
          6400,
          6501,
          6602,
          6703,
          6804
         ],
         "xaxis": "x",
         "y": [
          0.2939,
          0.3383,
          0.3188,
          0.2949,
          0.2958,
          0.2724,
          0.2954,
          0.2871,
          0.3002,
          0.3305,
          0.3505,
          0.2871,
          0.2817,
          0.2812,
          0.2934,
          0.3076,
          0.2846,
          0.3154,
          0.2792,
          0.2724,
          0.2587,
          0.25,
          0.3266,
          0.3022,
          0.2587,
          0.3422,
          0.2939,
          0.3076,
          0.3085,
          0.2968,
          0.3159,
          0.3408,
          0.3515,
          0.3037,
          0.352,
          0.3071,
          0.3188,
          0.3212,
          0.2958,
          0.2797,
          0.3422,
          0.2915,
          0.2514,
          0.29,
          0.2617,
          0.2646,
          0.3276,
          0.3149,
          0.3627,
          0.3027,
          0.2675,
          0.289,
          0.3041,
          0.3227,
          0.2426,
          0.29,
          0.2788,
          0.309,
          0.2758,
          0.2929,
          0.2993,
          0.2949,
          0.2416,
          0.2578,
          0.3437
         ],
         "yaxis": "y"
        },
        {
         "hovertemplate": "variable=accel_y<br>timestamp=%{x}<br>value=%{y}<extra></extra>",
         "legendgroup": "accel_y",
         "marker": {
          "color": "#EF553B",
          "symbol": "circle"
         },
         "mode": "markers",
         "name": "accel_y",
         "orientation": "v",
         "showlegend": true,
         "type": "scatter",
         "x": [
          340,
          441,
          542,
          643,
          744,
          845,
          946,
          1047,
          1148,
          1249,
          1350,
          1451,
          1552,
          1653,
          1754,
          1855,
          1956,
          2057,
          2158,
          2259,
          2360,
          2461,
          2562,
          2663,
          2764,
          2865,
          2966,
          3067,
          3168,
          3269,
          3370,
          3471,
          3572,
          3673,
          3774,
          3875,
          3976,
          4077,
          4178,
          4279,
          4380,
          4481,
          4582,
          4683,
          4784,
          4885,
          4986,
          5087,
          5188,
          5289,
          5390,
          5491,
          5592,
          5693,
          5794,
          5895,
          5996,
          6097,
          6198,
          6299,
          6400,
          6501,
          6602,
          6703,
          6804
         ],
         "xaxis": "x",
         "y": [
          0.0527,
          0.0205,
          0.0219,
          0.062,
          0.0439,
          0.0385,
          0.0278,
          0.0117,
          0.038,
          0.0786,
          0.0258,
          0.0224,
          0.0473,
          0.0537,
          0.0449,
          0.0449,
          0.0166,
          0.0541,
          0.0498,
          0.0727,
          -0.0136,
          0.0878,
          0.0375,
          0.0839,
          0.0185,
          0.0302,
          0.0405,
          0.0278,
          0.0659,
          0.0312,
          0.0209,
          0.038,
          0.0341,
          0.0087,
          0.0537,
          0.0546,
          0.017,
          0.0629,
          0.0541,
          0.0253,
          0.0742,
          0.0083,
          0.0869,
          0.0371,
          0.0249,
          -0.0234,
          0.0175,
          0.0126,
          0.0424,
          0.0507,
          0.0239,
          0.0791,
          0.0742,
          0.0224,
          0.0639,
          0.0576,
          0.0249,
          0.0371,
          0.0107,
          0.0014,
          0.038,
          0.0512,
          0.0039,
          0.0434,
          0.0483
         ],
         "yaxis": "y"
        },
        {
         "hovertemplate": "variable=accel_z<br>timestamp=%{x}<br>value=%{y}<extra></extra>",
         "legendgroup": "accel_z",
         "marker": {
          "color": "#00cc96",
          "symbol": "circle"
         },
         "mode": "markers",
         "name": "accel_z",
         "orientation": "v",
         "showlegend": true,
         "type": "scatter",
         "x": [
          340,
          441,
          542,
          643,
          744,
          845,
          946,
          1047,
          1148,
          1249,
          1350,
          1451,
          1552,
          1653,
          1754,
          1855,
          1956,
          2057,
          2158,
          2259,
          2360,
          2461,
          2562,
          2663,
          2764,
          2865,
          2966,
          3067,
          3168,
          3269,
          3370,
          3471,
          3572,
          3673,
          3774,
          3875,
          3976,
          4077,
          4178,
          4279,
          4380,
          4481,
          4582,
          4683,
          4784,
          4885,
          4986,
          5087,
          5188,
          5289,
          5390,
          5491,
          5592,
          5693,
          5794,
          5895,
          5996,
          6097,
          6198,
          6299,
          6400,
          6501,
          6602,
          6703,
          6804
         ],
         "xaxis": "x",
         "y": [
          -0.9951,
          -0.997,
          -1.0014,
          -0.9726,
          -0.9902,
          -0.958,
          -0.9726,
          -1.0087,
          -1.0224,
          -1.0043,
          -1.0156,
          -1.0039,
          -0.9189,
          -0.937,
          -0.9565,
          -1.0517,
          -1.0141,
          -1.019,
          -0.957,
          -1.0341,
          -0.9838,
          -0.9921,
          -1.0126,
          -0.9907,
          -0.9707,
          -1.0097,
          -0.9125,
          -0.9921,
          -0.9409,
          -0.979,
          -0.9614,
          -0.9892,
          -1.0175,
          -0.977,
          -1.0043,
          -0.9648,
          -0.9956,
          -0.999,
          -1.0073,
          -0.9926,
          -0.9746,
          -1.0092,
          -0.9296,
          -0.9838,
          -0.9897,
          -1.0034,
          -0.9775,
          -0.9511,
          -1.0048,
          -0.9355,
          -1.0004,
          -1.0053,
          -0.9775,
          -1.0312,
          -0.9575,
          -1.0161,
          -0.955,
          -0.9882,
          -0.9472,
          -0.9716,
          -0.9692,
          -0.9765,
          -0.9453,
          -1.0161,
          -0.979
         ],
         "yaxis": "y"
        }
       ],
       "layout": {
        "legend": {
         "title": {
          "text": "variable"
         },
         "tracegroupgap": 0
        },
        "margin": {
         "t": 60
        },
        "template": {
         "data": {
          "bar": [
           {
            "error_x": {
             "color": "#2a3f5f"
            },
            "error_y": {
             "color": "#2a3f5f"
            },
            "marker": {
             "line": {
              "color": "#E5ECF6",
              "width": 0.5
             }
            },
            "type": "bar"
           }
          ],
          "barpolar": [
           {
            "marker": {
             "line": {
              "color": "#E5ECF6",
              "width": 0.5
             }
            },
            "type": "barpolar"
           }
          ],
          "carpet": [
           {
            "aaxis": {
             "endlinecolor": "#2a3f5f",
             "gridcolor": "white",
             "linecolor": "white",
             "minorgridcolor": "white",
             "startlinecolor": "#2a3f5f"
            },
            "baxis": {
             "endlinecolor": "#2a3f5f",
             "gridcolor": "white",
             "linecolor": "white",
             "minorgridcolor": "white",
             "startlinecolor": "#2a3f5f"
            },
            "type": "carpet"
           }
          ],
          "choropleth": [
           {
            "colorbar": {
             "outlinewidth": 0,
             "ticks": ""
            },
            "type": "choropleth"
           }
          ],
          "contour": [
           {
            "colorbar": {
             "outlinewidth": 0,
             "ticks": ""
            },
            "colorscale": [
             [
              0,
              "#0d0887"
             ],
             [
              0.1111111111111111,
              "#46039f"
             ],
             [
              0.2222222222222222,
              "#7201a8"
             ],
             [
              0.3333333333333333,
              "#9c179e"
             ],
             [
              0.4444444444444444,
              "#bd3786"
             ],
             [
              0.5555555555555556,
              "#d8576b"
             ],
             [
              0.6666666666666666,
              "#ed7953"
             ],
             [
              0.7777777777777778,
              "#fb9f3a"
             ],
             [
              0.8888888888888888,
              "#fdca26"
             ],
             [
              1,
              "#f0f921"
             ]
            ],
            "type": "contour"
           }
          ],
          "contourcarpet": [
           {
            "colorbar": {
             "outlinewidth": 0,
             "ticks": ""
            },
            "type": "contourcarpet"
           }
          ],
          "heatmap": [
           {
            "colorbar": {
             "outlinewidth": 0,
             "ticks": ""
            },
            "colorscale": [
             [
              0,
              "#0d0887"
             ],
             [
              0.1111111111111111,
              "#46039f"
             ],
             [
              0.2222222222222222,
              "#7201a8"
             ],
             [
              0.3333333333333333,
              "#9c179e"
             ],
             [
              0.4444444444444444,
              "#bd3786"
             ],
             [
              0.5555555555555556,
              "#d8576b"
             ],
             [
              0.6666666666666666,
              "#ed7953"
             ],
             [
              0.7777777777777778,
              "#fb9f3a"
             ],
             [
              0.8888888888888888,
              "#fdca26"
             ],
             [
              1,
              "#f0f921"
             ]
            ],
            "type": "heatmap"
           }
          ],
          "heatmapgl": [
           {
            "colorbar": {
             "outlinewidth": 0,
             "ticks": ""
            },
            "colorscale": [
             [
              0,
              "#0d0887"
             ],
             [
              0.1111111111111111,
              "#46039f"
             ],
             [
              0.2222222222222222,
              "#7201a8"
             ],
             [
              0.3333333333333333,
              "#9c179e"
             ],
             [
              0.4444444444444444,
              "#bd3786"
             ],
             [
              0.5555555555555556,
              "#d8576b"
             ],
             [
              0.6666666666666666,
              "#ed7953"
             ],
             [
              0.7777777777777778,
              "#fb9f3a"
             ],
             [
              0.8888888888888888,
              "#fdca26"
             ],
             [
              1,
              "#f0f921"
             ]
            ],
            "type": "heatmapgl"
           }
          ],
          "histogram": [
           {
            "marker": {
             "colorbar": {
              "outlinewidth": 0,
              "ticks": ""
             }
            },
            "type": "histogram"
           }
          ],
          "histogram2d": [
           {
            "colorbar": {
             "outlinewidth": 0,
             "ticks": ""
            },
            "colorscale": [
             [
              0,
              "#0d0887"
             ],
             [
              0.1111111111111111,
              "#46039f"
             ],
             [
              0.2222222222222222,
              "#7201a8"
             ],
             [
              0.3333333333333333,
              "#9c179e"
             ],
             [
              0.4444444444444444,
              "#bd3786"
             ],
             [
              0.5555555555555556,
              "#d8576b"
             ],
             [
              0.6666666666666666,
              "#ed7953"
             ],
             [
              0.7777777777777778,
              "#fb9f3a"
             ],
             [
              0.8888888888888888,
              "#fdca26"
             ],
             [
              1,
              "#f0f921"
             ]
            ],
            "type": "histogram2d"
           }
          ],
          "histogram2dcontour": [
           {
            "colorbar": {
             "outlinewidth": 0,
             "ticks": ""
            },
            "colorscale": [
             [
              0,
              "#0d0887"
             ],
             [
              0.1111111111111111,
              "#46039f"
             ],
             [
              0.2222222222222222,
              "#7201a8"
             ],
             [
              0.3333333333333333,
              "#9c179e"
             ],
             [
              0.4444444444444444,
              "#bd3786"
             ],
             [
              0.5555555555555556,
              "#d8576b"
             ],
             [
              0.6666666666666666,
              "#ed7953"
             ],
             [
              0.7777777777777778,
              "#fb9f3a"
             ],
             [
              0.8888888888888888,
              "#fdca26"
             ],
             [
              1,
              "#f0f921"
             ]
            ],
            "type": "histogram2dcontour"
           }
          ],
          "mesh3d": [
           {
            "colorbar": {
             "outlinewidth": 0,
             "ticks": ""
            },
            "type": "mesh3d"
           }
          ],
          "parcoords": [
           {
            "line": {
             "colorbar": {
              "outlinewidth": 0,
              "ticks": ""
             }
            },
            "type": "parcoords"
           }
          ],
          "pie": [
           {
            "automargin": true,
            "type": "pie"
           }
          ],
          "scatter": [
           {
            "marker": {
             "colorbar": {
              "outlinewidth": 0,
              "ticks": ""
             }
            },
            "type": "scatter"
           }
          ],
          "scatter3d": [
           {
            "line": {
             "colorbar": {
              "outlinewidth": 0,
              "ticks": ""
             }
            },
            "marker": {
             "colorbar": {
              "outlinewidth": 0,
              "ticks": ""
             }
            },
            "type": "scatter3d"
           }
          ],
          "scattercarpet": [
           {
            "marker": {
             "colorbar": {
              "outlinewidth": 0,
              "ticks": ""
             }
            },
            "type": "scattercarpet"
           }
          ],
          "scattergeo": [
           {
            "marker": {
             "colorbar": {
              "outlinewidth": 0,
              "ticks": ""
             }
            },
            "type": "scattergeo"
           }
          ],
          "scattergl": [
           {
            "marker": {
             "colorbar": {
              "outlinewidth": 0,
              "ticks": ""
             }
            },
            "type": "scattergl"
           }
          ],
          "scattermapbox": [
           {
            "marker": {
             "colorbar": {
              "outlinewidth": 0,
              "ticks": ""
             }
            },
            "type": "scattermapbox"
           }
          ],
          "scatterpolar": [
           {
            "marker": {
             "colorbar": {
              "outlinewidth": 0,
              "ticks": ""
             }
            },
            "type": "scatterpolar"
           }
          ],
          "scatterpolargl": [
           {
            "marker": {
             "colorbar": {
              "outlinewidth": 0,
              "ticks": ""
             }
            },
            "type": "scatterpolargl"
           }
          ],
          "scatterternary": [
           {
            "marker": {
             "colorbar": {
              "outlinewidth": 0,
              "ticks": ""
             }
            },
            "type": "scatterternary"
           }
          ],
          "surface": [
           {
            "colorbar": {
             "outlinewidth": 0,
             "ticks": ""
            },
            "colorscale": [
             [
              0,
              "#0d0887"
             ],
             [
              0.1111111111111111,
              "#46039f"
             ],
             [
              0.2222222222222222,
              "#7201a8"
             ],
             [
              0.3333333333333333,
              "#9c179e"
             ],
             [
              0.4444444444444444,
              "#bd3786"
             ],
             [
              0.5555555555555556,
              "#d8576b"
             ],
             [
              0.6666666666666666,
              "#ed7953"
             ],
             [
              0.7777777777777778,
              "#fb9f3a"
             ],
             [
              0.8888888888888888,
              "#fdca26"
             ],
             [
              1,
              "#f0f921"
             ]
            ],
            "type": "surface"
           }
          ],
          "table": [
           {
            "cells": {
             "fill": {
              "color": "#EBF0F8"
             },
             "line": {
              "color": "white"
             }
            },
            "header": {
             "fill": {
              "color": "#C8D4E3"
             },
             "line": {
              "color": "white"
             }
            },
            "type": "table"
           }
          ]
         },
         "layout": {
          "annotationdefaults": {
           "arrowcolor": "#2a3f5f",
           "arrowhead": 0,
           "arrowwidth": 1
          },
          "coloraxis": {
           "colorbar": {
            "outlinewidth": 0,
            "ticks": ""
           }
          },
          "colorscale": {
           "diverging": [
            [
             0,
             "#8e0152"
            ],
            [
             0.1,
             "#c51b7d"
            ],
            [
             0.2,
             "#de77ae"
            ],
            [
             0.3,
             "#f1b6da"
            ],
            [
             0.4,
             "#fde0ef"
            ],
            [
             0.5,
             "#f7f7f7"
            ],
            [
             0.6,
             "#e6f5d0"
            ],
            [
             0.7,
             "#b8e186"
            ],
            [
             0.8,
             "#7fbc41"
            ],
            [
             0.9,
             "#4d9221"
            ],
            [
             1,
             "#276419"
            ]
           ],
           "sequential": [
            [
             0,
             "#0d0887"
            ],
            [
             0.1111111111111111,
             "#46039f"
            ],
            [
             0.2222222222222222,
             "#7201a8"
            ],
            [
             0.3333333333333333,
             "#9c179e"
            ],
            [
             0.4444444444444444,
             "#bd3786"
            ],
            [
             0.5555555555555556,
             "#d8576b"
            ],
            [
             0.6666666666666666,
             "#ed7953"
            ],
            [
             0.7777777777777778,
             "#fb9f3a"
            ],
            [
             0.8888888888888888,
             "#fdca26"
            ],
            [
             1,
             "#f0f921"
            ]
           ],
           "sequentialminus": [
            [
             0,
             "#0d0887"
            ],
            [
             0.1111111111111111,
             "#46039f"
            ],
            [
             0.2222222222222222,
             "#7201a8"
            ],
            [
             0.3333333333333333,
             "#9c179e"
            ],
            [
             0.4444444444444444,
             "#bd3786"
            ],
            [
             0.5555555555555556,
             "#d8576b"
            ],
            [
             0.6666666666666666,
             "#ed7953"
            ],
            [
             0.7777777777777778,
             "#fb9f3a"
            ],
            [
             0.8888888888888888,
             "#fdca26"
            ],
            [
             1,
             "#f0f921"
            ]
           ]
          },
          "colorway": [
           "#636efa",
           "#EF553B",
           "#00cc96",
           "#ab63fa",
           "#FFA15A",
           "#19d3f3",
           "#FF6692",
           "#B6E880",
           "#FF97FF",
           "#FECB52"
          ],
          "font": {
           "color": "#2a3f5f"
          },
          "geo": {
           "bgcolor": "white",
           "lakecolor": "white",
           "landcolor": "#E5ECF6",
           "showlakes": true,
           "showland": true,
           "subunitcolor": "white"
          },
          "hoverlabel": {
           "align": "left"
          },
          "hovermode": "closest",
          "mapbox": {
           "style": "light"
          },
          "paper_bgcolor": "white",
          "plot_bgcolor": "#E5ECF6",
          "polar": {
           "angularaxis": {
            "gridcolor": "white",
            "linecolor": "white",
            "ticks": ""
           },
           "bgcolor": "#E5ECF6",
           "radialaxis": {
            "gridcolor": "white",
            "linecolor": "white",
            "ticks": ""
           }
          },
          "scene": {
           "xaxis": {
            "backgroundcolor": "#E5ECF6",
            "gridcolor": "white",
            "gridwidth": 2,
            "linecolor": "white",
            "showbackground": true,
            "ticks": "",
            "zerolinecolor": "white"
           },
           "yaxis": {
            "backgroundcolor": "#E5ECF6",
            "gridcolor": "white",
            "gridwidth": 2,
            "linecolor": "white",
            "showbackground": true,
            "ticks": "",
            "zerolinecolor": "white"
           },
           "zaxis": {
            "backgroundcolor": "#E5ECF6",
            "gridcolor": "white",
            "gridwidth": 2,
            "linecolor": "white",
            "showbackground": true,
            "ticks": "",
            "zerolinecolor": "white"
           }
          },
          "shapedefaults": {
           "line": {
            "color": "#2a3f5f"
           }
          },
          "ternary": {
           "aaxis": {
            "gridcolor": "white",
            "linecolor": "white",
            "ticks": ""
           },
           "baxis": {
            "gridcolor": "white",
            "linecolor": "white",
            "ticks": ""
           },
           "bgcolor": "#E5ECF6",
           "caxis": {
            "gridcolor": "white",
            "linecolor": "white",
            "ticks": ""
           }
          },
          "title": {
           "x": 0.05
          },
          "xaxis": {
           "automargin": true,
           "gridcolor": "white",
           "linecolor": "white",
           "ticks": "",
           "title": {
            "standoff": 15
           },
           "zerolinecolor": "white",
           "zerolinewidth": 2
          },
          "yaxis": {
           "automargin": true,
           "gridcolor": "white",
           "linecolor": "white",
           "ticks": "",
           "title": {
            "standoff": 15
           },
           "zerolinecolor": "white",
           "zerolinewidth": 2
          }
         }
        },
        "xaxis": {
         "anchor": "y",
         "domain": [
          0,
          1
         ],
         "title": {
          "text": "timestamp"
         }
        },
        "yaxis": {
         "anchor": "x",
         "domain": [
          0,
          1
         ],
         "title": {
          "text": "acceleration (relative to gravity)"
         }
        }
       }
      }
     },
     "metadata": {}
    },
    {
     "output_type": "error",
     "ename": "KeyboardInterrupt",
     "evalue": "",
     "traceback": [
      "\u001b[0;31m---------------------------------------------------------------------------\u001b[0m",
      "\u001b[0;31mKeyboardInterrupt\u001b[0m                         Traceback (most recent call last)",
      "\u001b[0;32m<ipython-input-2-6980e16a1c09>\u001b[0m in \u001b[0;36m<module>\u001b[0;34m\u001b[0m\n\u001b[1;32m     42\u001b[0m         \u001b[0mfig_A\u001b[0m\u001b[0;34m.\u001b[0m\u001b[0mshow\u001b[0m\u001b[0;34m(\u001b[0m\u001b[0;34m)\u001b[0m\u001b[0;34m\u001b[0m\u001b[0;34m\u001b[0m\u001b[0m\n\u001b[1;32m     43\u001b[0m         \u001b[0;31m# fig_B.show()\u001b[0m\u001b[0;34m\u001b[0m\u001b[0;34m\u001b[0m\u001b[0;34m\u001b[0m\u001b[0m\n\u001b[0;32m---> 44\u001b[0;31m         \u001b[0mtime\u001b[0m\u001b[0;34m.\u001b[0m\u001b[0msleep\u001b[0m\u001b[0;34m(\u001b[0m\u001b[0;36m0.5\u001b[0m\u001b[0;34m)\u001b[0m\u001b[0;34m\u001b[0m\u001b[0;34m\u001b[0m\u001b[0m\n\u001b[0m",
      "\u001b[0;31mKeyboardInterrupt\u001b[0m: "
     ]
    }
   ],
   "source": [
    "import plotly.express as px\n",
    "import pandas as pd\n",
    "from IPython.display import clear_output\n",
    "\n",
    "try:\n",
    "    with open(\"collected_ImuData.csv\") as f:\n",
    "        raw_data = pd.read_csv(f)\n",
    "except FileNotFoundError:\n",
    "    # VSCode defaults to running in the working directory of the root project so we need a different path\n",
    "    with open(\"companion_app/collected_ImuData.csv\") as f:\n",
    "        raw_data = pd.read_csv(f)\n",
    "\n",
    "data = raw_data.loc[raw_data.reset_idx == max(raw_data.reset_idx)]\n",
    "\n",
    "# accel in 0.1 milli_gravity -> gravity\n",
    "data.accel_x = data.accel_x / 10000\n",
    "data.accel_y = data.accel_y / 10000\n",
    "data.accel_z = data.accel_z / 10000\n",
    "# gyro in m°/s per LSB -> deg/s\n",
    "data.gyro_x = data.gyro_x / 1000\n",
    "data.gyro_y = data.gyro_y / 1000\n",
    "data.gyro_z = data.gyro_z / 1000\n",
    "\n",
    "plot_fields = [\"accel_x\", \"accel_y\", \"accel_z\"]\n",
    "y_label = \"acceleration (relative to gravity)\"\n",
    "# plot_fields = [\"gyro_x\", \"gyro_y\", \"gyro_z\"]\n",
    "# y_label = \"gyro (degrees/s)\"\n",
    "\n",
    "TRY_WEIRD_TIMING_TO_DO_LIVE_UPDATING = True\n",
    "if not TRY_WEIRD_TIMING_TO_DO_LIVE_UPDATING:\n",
    "    fig = px.scatter(data, x=\"timestamp\", y=plot_fields_A)\n",
    "    fig.show()\n",
    "else:\n",
    "    import time\n",
    "    for idx in range(5, len(data.timestamp)):\n",
    "        fig_A = px.scatter(data.loc[1:idx,:], x=\"timestamp\", y=plot_fields)\n",
    "        fig_A.update_layout(yaxis_title=y_label)\n",
    "        # fig_B = px.scatter(data.loc[1:idx,:], x=\"timestamp\", y=plot_fields_B)\n",
    "        # fig_B.update_layout(yaxis_title=y_label_B)\n",
    "        clear_output(wait=True)\n",
    "        fig_A.show()\n",
    "        # fig_B.show()\n",
    "        time.sleep(0.5)"
   ]
  },
  {
   "cell_type": "code",
   "execution_count": null,
   "metadata": {},
   "outputs": [],
   "source": []
  },
  {
   "cell_type": "code",
   "execution_count": null,
   "metadata": {},
   "outputs": [],
   "source": []
  }
 ],
 "metadata": {
  "kernelspec": {
   "display_name": "Python 3",
   "language": "python",
   "name": "python3"
  },
  "language_info": {
   "codemirror_mode": {
    "name": "ipython",
    "version": 3
   },
   "file_extension": ".py",
   "mimetype": "text/x-python",
   "name": "python",
   "nbconvert_exporter": "python",
   "pygments_lexer": "ipython3",
   "version": "3.7.4-final"
  }
 },
 "nbformat": 4,
 "nbformat_minor": 2
}